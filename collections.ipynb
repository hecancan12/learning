{
 "cells": [
  {
   "cell_type": "code",
   "execution_count": 7,
   "metadata": {},
   "outputs": [
    {
     "ename": "SyntaxError",
     "evalue": "invalid character in identifier (<ipython-input-7-3a8701b86b8c>, line 6)",
     "output_type": "error",
     "traceback": [
      "\u001b[0;36m  File \u001b[0;32m\"<ipython-input-7-3a8701b86b8c>\"\u001b[0;36m, line \u001b[0;32m6\u001b[0m\n\u001b[0;31m    print(frequency）\u001b[0m\n\u001b[0m                   ^\u001b[0m\n\u001b[0;31mSyntaxError\u001b[0m\u001b[0;31m:\u001b[0m invalid character in identifier\n"
     ]
    }
   ],
   "source": [
    "#统计字符个数\n",
    "import collections\n",
    "\n",
    "text = \"we are family you are perfect you we yes\"\n",
    "frequency = collections.Counter(text.split())\n",
    "print(frequency）"
   ]
  },
  {
   "cell_type": "code",
   "execution_count": 22,
   "metadata": {},
   "outputs": [
    {
     "name": "stdout",
     "output_type": "stream",
     "text": [
      "['Im', 'a', 'hand', 'some', 'boy', 'boy']\n",
      "<class 'collections.Counter'>\n"
     ]
    }
   ],
   "source": [
    "import collections\n",
    "#frequency = {}\n",
    "text = \"Im a hand some boy boy\"\n",
    "word = text.split()\n",
    "print(word)\n",
    "frequency = collections.Counter(word)\n",
    "print(type(frequency))\n",
    "#print(frequency）"
   ]
  },
  {
   "cell_type": "code",
   "execution_count": 44,
   "metadata": {},
   "outputs": [
    {
     "name": "stdout",
     "output_type": "stream",
     "text": [
      "Counter({'Im': 1, 'a': 1, 'hand': 1, 'some': 1, 'boy!': 1})\n"
     ]
    }
   ],
   "source": [
    "import collections\n",
    "text = \"Im a hand some boy!\"\n",
    "frequency = collections.Counter(text.split())\n",
    "print(frequency)"
   ]
  },
  {
   "cell_type": "code",
   "execution_count": 35,
   "metadata": {},
   "outputs": [
    {
     "name": "stdout",
     "output_type": "stream",
     "text": [
      "{\"I'm\": 1, 'a': 1, 'hand': 1, 'some': 1, 'boy!': 1}\n"
     ]
    }
   ],
   "source": [
    "import collections\n",
    "text = \"we are family you are perfect you we yes\"\n",
    "\n",
    "frequency = {}\n",
    "\n",
    "for word in text.split():\n",
    "    if word not in frequency:\n",
    "        frequency[word] = 1\n",
    "    else:\n",
    "        frequency[word] += 1\n",
    "print(frequency)"
   ]
  },
  {
   "cell_type": "code",
   "execution_count": 37,
   "metadata": {},
   "outputs": [
    {
     "name": "stdout",
     "output_type": "stream",
     "text": [
      "defaultdict(<class 'int'>, {\"I'm\": 1, 'a': 1, 'hand': 1, 'some': 1, 'boy!': 1})\n"
     ]
    }
   ],
   "source": [
    "import collections\n",
    "\n",
    "frequency = collections.defaultdict(int)\n",
    "\n",
    "text = \"we are family you are perfect you we yes\"\n",
    "\n",
    "for word in text.split():\n",
    "    frequency[word] += 1\n",
    "print(frequency)\n"
   ]
  },
  {
   "cell_type": "code",
   "execution_count": 45,
   "metadata": {},
   "outputs": [
    {
     "name": "stdout",
     "output_type": "stream",
     "text": [
      "Counter({'we': 2, 'are': 2, 'you': 2, 'family': 1, 'perfect': 1, 'yes': 1})\n"
     ]
    }
   ],
   "source": [
    "import collections\n",
    "\n",
    "text = \"we are family you are perfect you we yes\"\n",
    "frequency = collections.Counter(text.split())\n",
    "print(frequency)"
   ]
  },
  {
   "cell_type": "code",
   "execution_count": null,
   "metadata": {},
   "outputs": [],
   "source": []
  }
 ],
 "metadata": {
  "kernelspec": {
   "display_name": "Python 3",
   "language": "python",
   "name": "python3"
  },
  "language_info": {
   "codemirror_mode": {
    "name": "ipython",
    "version": 3
   },
   "file_extension": ".py",
   "mimetype": "text/x-python",
   "name": "python",
   "nbconvert_exporter": "python",
   "pygments_lexer": "ipython3",
   "version": "3.7.0"
  }
 },
 "nbformat": 4,
 "nbformat_minor": 2
}
